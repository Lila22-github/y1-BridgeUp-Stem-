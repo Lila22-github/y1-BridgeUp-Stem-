{
 "cells": [
  {
   "cell_type": "code",
   "execution_count": 54,
   "metadata": {},
   "outputs": [],
   "source": [
    "#import any necessary libraries\n",
    "import pandas as pd\n",
    "import numpy as np\n",
    "import matplotlib.pyplot as plt"
   ]
  },
  {
   "cell_type": "code",
   "execution_count": 55,
   "metadata": {},
   "outputs": [
    {
     "data": {
      "text/html": [
       "<div>\n",
       "<style scoped>\n",
       "    .dataframe tbody tr th:only-of-type {\n",
       "        vertical-align: middle;\n",
       "    }\n",
       "\n",
       "    .dataframe tbody tr th {\n",
       "        vertical-align: top;\n",
       "    }\n",
       "\n",
       "    .dataframe thead th {\n",
       "        text-align: right;\n",
       "    }\n",
       "</style>\n",
       "<table border=\"1\" class=\"dataframe\">\n",
       "  <thead>\n",
       "    <tr style=\"text-align: right;\">\n",
       "      <th></th>\n",
       "      <th>Species ID</th>\n",
       "      <th>Bird vs Dino</th>\n",
       "      <th>Body Mass (kg)</th>\n",
       "      <th>Olfactory bulbs (cm3)</th>\n",
       "      <th>Cerebrum (cm3)</th>\n",
       "      <th>Optic Lobes (cm3)</th>\n",
       "      <th>Cerebellum (cm3)</th>\n",
       "      <th>Brain Stem (cm3)</th>\n",
       "      <th>Brain Volume (cm3)</th>\n",
       "    </tr>\n",
       "  </thead>\n",
       "  <tbody>\n",
       "    <tr>\n",
       "      <th>0</th>\n",
       "      <td>1</td>\n",
       "      <td>B</td>\n",
       "      <td>0.02</td>\n",
       "      <td>0.009</td>\n",
       "      <td>1.53</td>\n",
       "      <td>0.20</td>\n",
       "      <td>0.16</td>\n",
       "      <td>0.06</td>\n",
       "      <td>1.96</td>\n",
       "    </tr>\n",
       "    <tr>\n",
       "      <th>1</th>\n",
       "      <td>2</td>\n",
       "      <td>B</td>\n",
       "      <td>1.26</td>\n",
       "      <td>0.006</td>\n",
       "      <td>16.81</td>\n",
       "      <td>2.84</td>\n",
       "      <td>1.70</td>\n",
       "      <td>0.68</td>\n",
       "      <td>22.04</td>\n",
       "    </tr>\n",
       "    <tr>\n",
       "      <th>2</th>\n",
       "      <td>3</td>\n",
       "      <td>B</td>\n",
       "      <td>2.18</td>\n",
       "      <td>0.026</td>\n",
       "      <td>11.08</td>\n",
       "      <td>1.95</td>\n",
       "      <td>0.89</td>\n",
       "      <td>1.15</td>\n",
       "      <td>15.10</td>\n",
       "    </tr>\n",
       "    <tr>\n",
       "      <th>3</th>\n",
       "      <td>4</td>\n",
       "      <td>D</td>\n",
       "      <td>0.25</td>\n",
       "      <td>0.050</td>\n",
       "      <td>0.41</td>\n",
       "      <td>0.16</td>\n",
       "      <td>0.09</td>\n",
       "      <td>0.12</td>\n",
       "      <td>0.83</td>\n",
       "    </tr>\n",
       "    <tr>\n",
       "      <th>4</th>\n",
       "      <td>5</td>\n",
       "      <td>B</td>\n",
       "      <td>0.01</td>\n",
       "      <td>0.003</td>\n",
       "      <td>1.57</td>\n",
       "      <td>0.20</td>\n",
       "      <td>0.34</td>\n",
       "      <td>0.08</td>\n",
       "      <td>2.19</td>\n",
       "    </tr>\n",
       "  </tbody>\n",
       "</table>\n",
       "</div>"
      ],
      "text/plain": [
       "   Species ID Bird vs Dino  Body Mass (kg)  Olfactory bulbs (cm3)  \\\n",
       "0           1            B            0.02                  0.009   \n",
       "1           2            B            1.26                  0.006   \n",
       "2           3            B            2.18                  0.026   \n",
       "3           4            D            0.25                  0.050   \n",
       "4           5            B            0.01                  0.003   \n",
       "\n",
       "   Cerebrum (cm3)  Optic Lobes (cm3)  Cerebellum (cm3)  Brain Stem (cm3)  \\\n",
       "0            1.53               0.20              0.16              0.06   \n",
       "1           16.81               2.84              1.70              0.68   \n",
       "2           11.08               1.95              0.89              1.15   \n",
       "3            0.41               0.16              0.09              0.12   \n",
       "4            1.57               0.20              0.34              0.08   \n",
       "\n",
       "   Brain Volume (cm3)  \n",
       "0                1.96  \n",
       "1               22.04  \n",
       "2               15.10  \n",
       "3                0.83  \n",
       "4                2.19  "
      ]
     },
     "execution_count": 55,
     "metadata": {},
     "output_type": "execute_result"
    }
   ],
   "source": [
    "#read the csv into a dataframe, and print the first 5 lines\n",
    "df = pd.read_csv(\"bird_dino_data.csv\")\n",
    "df.head()"
   ]
  },
  {
   "cell_type": "code",
   "execution_count": 56,
   "metadata": {},
   "outputs": [],
   "source": [
    "#write a function that returns a prediction about whether the brain \n",
    "#belongs to a bird or dino. "
   ]
  },
  {
   "cell_type": "code",
   "execution_count": 57,
   "metadata": {},
   "outputs": [],
   "source": [
    "# First, make a function to find the average brain to body mass ratio for birds\n",
    "def bbmratio_birds(dfname, braincol, bodycol):\n",
    "    bird_df = dfname.loc[dfname[\"Bird vs Dino\"] == \"B\"].copy()\n",
    "    bird_df[\"ratio\"] = bird_df[braincol]/bird_df[bodycol]\n",
    "    avgratio_bird = bird_df[\"ratio\"].mean()\n",
    "    return avgratio_bird"
   ]
  },
  {
   "cell_type": "code",
   "execution_count": 58,
   "metadata": {},
   "outputs": [
    {
     "name": "stdout",
     "output_type": "stream",
     "text": [
      "47.83228382007435\n"
     ]
    }
   ],
   "source": [
    "Birds_BBM_ratio = bbmratio_birds(df, \"Brain Volume (cm3)\", \"Body Mass (kg)\")\n",
    "print(Birds_BBM_ratio)"
   ]
  },
  {
   "cell_type": "code",
   "execution_count": 59,
   "metadata": {},
   "outputs": [],
   "source": [
    "#Then do the same for dinos\n",
    "def bbmratio_dinos(dfname, braincol, bodycol):\n",
    "    dino_df = dfname.loc[dfname[\"Bird vs Dino\"] == \"D\"].copy()\n",
    "    dino_df[\"ratio\"] = dino_df[braincol]/dino_df[bodycol]\n",
    "    avgratio_dino = dino_df[\"ratio\"].mean()\n",
    "    return avgratio_dino"
   ]
  },
  {
   "cell_type": "code",
   "execution_count": 60,
   "metadata": {},
   "outputs": [
    {
     "name": "stdout",
     "output_type": "stream",
     "text": [
      "1.6106496539985664\n"
     ]
    }
   ],
   "source": [
    "Dinos_BBM_ratio = bbmratio_dinos(df, \"Brain Volume (cm3)\", \"Body Mass (kg)\")\n",
    "print(Dinos_BBM_ratio)    "
   ]
  },
  {
   "cell_type": "code",
   "execution_count": 61,
   "metadata": {},
   "outputs": [],
   "source": [
    "#Now find the average cerebrum to whole brain ratio\n",
    "def avgc_ratio(B_D):\n",
    "    c = df[\"Cerebrum (cm3)\"].loc[df[\"Bird vs Dino\"] == B_D].copy()\n",
    "    w = df[\"Brain Volume (cm3)\"].loc[df[\"Bird vs Dino\"] == B_D].copy()\n",
    "    avg = (c.mean())/(w.mean())\n",
    "    return avg"
   ]
  },
  {
   "cell_type": "code",
   "execution_count": 75,
   "metadata": {},
   "outputs": [],
   "source": [
    "CWBbirds = avgc_ratio(\"B\")\n",
    "CWBdinos = avgc_ratio(\"D\")"
   ]
  },
  {
   "cell_type": "code",
   "execution_count": 76,
   "metadata": {},
   "outputs": [
    {
     "name": "stdout",
     "output_type": "stream",
     "text": [
      "0.6781581012161632\n",
      "0.4851605087825562\n"
     ]
    }
   ],
   "source": [
    "print(CWBbirds)\n",
    "print(CWBdinos)"
   ]
  },
  {
   "cell_type": "code",
   "execution_count": 74,
   "metadata": {},
   "outputs": [],
   "source": [
    "#This section calculates body mass based on femur length\n",
    "\n",
    "def calcbodymass(femurlength):\n",
    "    bodymass = 10**(3.1854*np.log10(femurlength)-3.184)/1000\n",
    "    return bodymass"
   ]
  },
  {
   "cell_type": "code",
   "execution_count": 64,
   "metadata": {},
   "outputs": [],
   "source": [
    "FL = 21\n",
    "bm = calcbodymass(FL)"
   ]
  },
  {
   "cell_type": "code",
   "execution_count": 65,
   "metadata": {},
   "outputs": [
    {
     "name": "stdout",
     "output_type": "stream",
     "text": [
      "0.010660985224533874\n"
     ]
    }
   ],
   "source": [
    "print(bm)"
   ]
  },
  {
   "cell_type": "code",
   "execution_count": 66,
   "metadata": {},
   "outputs": [],
   "source": [
    "#calculate BBM ratio\n",
    "bv = 2.2\n",
    "Melanerpes_BBM_ratio = bv/bm\n"
   ]
  },
  {
   "cell_type": "code",
   "execution_count": 67,
   "metadata": {},
   "outputs": [
    {
     "name": "stdout",
     "output_type": "stream",
     "text": [
      "206.3599145543502\n"
     ]
    }
   ],
   "source": [
    "print(Melanerpes_BBM_ratio) #This indicated the specimin is a bird, because the BBM \n",
    "#ratio is closer to that of a bird. "
   ]
  },
  {
   "cell_type": "code",
   "execution_count": 68,
   "metadata": {},
   "outputs": [],
   "source": [
    "#Cerebrum to whole brain ratio\n",
    "def CWBratio(cerebrum, wholebrain):\n",
    "    ratio = cerebrum/wholebrain\n",
    "    return ratio"
   ]
  },
  {
   "cell_type": "code",
   "execution_count": 69,
   "metadata": {},
   "outputs": [],
   "source": [
    "CWBratio = CWBratio(1.57, 2.2)"
   ]
  },
  {
   "cell_type": "raw",
   "metadata": {},
   "source": [
    "print(CWBratio)"
   ]
  },
  {
   "cell_type": "code",
   "execution_count": 70,
   "metadata": {},
   "outputs": [],
   "source": [
    "#species name: Melanerpes aurifron"
   ]
  },
  {
   "cell_type": "code",
   "execution_count": 71,
   "metadata": {},
   "outputs": [],
   "source": [
    "#Visualizing ratios - compare average BBM ratios to our animals ratios"
   ]
  },
  {
   "cell_type": "code",
   "execution_count": 72,
   "metadata": {},
   "outputs": [
    {
     "ename": "TypeError",
     "evalue": "list indices must be integers or slices, not tuple",
     "output_type": "error",
     "traceback": [
      "\u001b[0;31m---------------------------------------------------------------------------\u001b[0m",
      "\u001b[0;31mTypeError\u001b[0m                                 Traceback (most recent call last)",
      "\u001b[0;32m<ipython-input-72-bf63f87a2995>\u001b[0m in \u001b[0;36m<module>\u001b[0;34m\u001b[0m\n\u001b[0;32m----> 1\u001b[0;31m \u001b[0mplt\u001b[0m\u001b[0;34m.\u001b[0m\u001b[0mbar\u001b[0m\u001b[0;34m(\u001b[0m\u001b[0;34m[\u001b[0m\u001b[0;36m1\u001b[0m\u001b[0;34m,\u001b[0m\u001b[0;36m2\u001b[0m\u001b[0;34m,\u001b[0m\u001b[0;36m3\u001b[0m\u001b[0;34m]\u001b[0m \u001b[0;34m[\u001b[0m\u001b[0mMelanerpes_BBM_ratio\u001b[0m\u001b[0;34m,\u001b[0m \u001b[0mDinos_BBM_ratio\u001b[0m\u001b[0;34m,\u001b[0m \u001b[0mBirds_BBM_ratio\u001b[0m\u001b[0;34m]\u001b[0m\u001b[0;34m,\u001b[0m \u001b[0mcolor\u001b[0m \u001b[0;34m=\u001b[0m \u001b[0;34m[\u001b[0m\u001b[0;34m\"red\"\u001b[0m\u001b[0;34m,\u001b[0m \u001b[0;34m\"blue\"\u001b[0m\u001b[0;34m,\u001b[0m \u001b[0;34m\"yellow\"\u001b[0m\u001b[0;34m]\u001b[0m\u001b[0;34m)\u001b[0m\u001b[0;34m\u001b[0m\u001b[0;34m\u001b[0m\u001b[0m\n\u001b[0m\u001b[1;32m      2\u001b[0m \u001b[0mplt\u001b[0m\u001b[0;34m.\u001b[0m\u001b[0mtitle\u001b[0m\u001b[0;34m(\u001b[0m\u001b[0;34m\"Brain/Body Mass Ratios\"\u001b[0m\u001b[0;34m)\u001b[0m\u001b[0;34m\u001b[0m\u001b[0;34m\u001b[0m\u001b[0m\n\u001b[1;32m      3\u001b[0m \u001b[0mplt\u001b[0m\u001b[0;34m.\u001b[0m\u001b[0mxticks\u001b[0m\u001b[0;34m(\u001b[0m\u001b[0;34m[\u001b[0m\u001b[0;36m1\u001b[0m\u001b[0;34m,\u001b[0m\u001b[0;36m2\u001b[0m\u001b[0;34m,\u001b[0m\u001b[0;36m3\u001b[0m\u001b[0;34m]\u001b[0m\u001b[0;34m,\u001b[0m \u001b[0;34m[\u001b[0m\u001b[0;34m\"Melanerpes\"\u001b[0m\u001b[0;34m,\u001b[0m \u001b[0;34m\"Dinosaurs\"\u001b[0m\u001b[0;34m,\u001b[0m \u001b[0;34m\"Birds\"\u001b[0m\u001b[0;34m]\u001b[0m\u001b[0;34m)\u001b[0m\u001b[0;34m\u001b[0m\u001b[0;34m\u001b[0m\u001b[0m\n\u001b[1;32m      4\u001b[0m \u001b[0mplt\u001b[0m\u001b[0;34m.\u001b[0m\u001b[0mshow\u001b[0m\u001b[0;34m(\u001b[0m\u001b[0;34m)\u001b[0m\u001b[0;34m\u001b[0m\u001b[0;34m\u001b[0m\u001b[0m\n",
      "\u001b[0;31mTypeError\u001b[0m: list indices must be integers or slices, not tuple"
     ]
    }
   ],
   "source": [
    "plt.bar([1,2,3] [Melanerpes_BBM_ratio, Dinos_BBM_ratio, Birds_BBM_ratio], color = [\"red\", \"blue\", \"yellow\"])\n",
    "plt.title(\"Brain/Body Mass Ratios\")\n",
    "plt.xticks([1,2,3], [\"Melanerpes\", \"Dinosaurs\", \"Birds\"])\n",
    "plt.show()"
   ]
  },
  {
   "cell_type": "code",
   "execution_count": null,
   "metadata": {},
   "outputs": [],
   "source": []
  },
  {
   "cell_type": "code",
   "execution_count": null,
   "metadata": {},
   "outputs": [],
   "source": []
  },
  {
   "cell_type": "code",
   "execution_count": null,
   "metadata": {},
   "outputs": [],
   "source": []
  }
 ],
 "metadata": {
  "kernelspec": {
   "display_name": "Python 3",
   "language": "python",
   "name": "python3"
  },
  "language_info": {
   "codemirror_mode": {
    "name": "ipython",
    "version": 3
   },
   "file_extension": ".py",
   "mimetype": "text/x-python",
   "name": "python",
   "nbconvert_exporter": "python",
   "pygments_lexer": "ipython3",
   "version": "3.7.3"
  }
 },
 "nbformat": 4,
 "nbformat_minor": 2
}
